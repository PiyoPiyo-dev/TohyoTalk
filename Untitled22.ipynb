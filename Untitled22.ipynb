{
  "nbformat": 4,
  "nbformat_minor": 0,
  "metadata": {
    "colab": {
      "provenance": [],
      "authorship_tag": "ABX9TyO+blhidKcud8QrPnRP6g3O",
      "include_colab_link": true
    },
    "kernelspec": {
      "name": "python3",
      "display_name": "Python 3"
    },
    "language_info": {
      "name": "python"
    }
  },
  "cells": [
    {
      "cell_type": "markdown",
      "metadata": {
        "id": "view-in-github",
        "colab_type": "text"
      },
      "source": [
        "<a href=\"https://colab.research.google.com/github/PiyoPiyo-dev/TohyoTalk/blob/main/Untitled22.ipynb\" target=\"_parent\"><img src=\"https://colab.research.google.com/assets/colab-badge.svg\" alt=\"Open In Colab\"/></a>"
      ]
    },
    {
      "cell_type": "code",
      "execution_count": 5,
      "metadata": {
        "colab": {
          "base_uri": "https://localhost:8080/"
        },
        "id": "Blg4eIwE9aJ4",
        "outputId": "c3f3abba-fbfc-4ccc-e548-990a32f98931"
      },
      "outputs": [
        {
          "output_type": "stream",
          "name": "stdout",
          "text": [
            "[200, 200, 200, 200, 200, 200, 200, 200, 200, 200, 200, 200, 200, 200, 200, 200, 200, 200, 200, 200, 200, 200, 200, 200, 200, 200, 200, 200, 200, 200, 200, 200, 200, 200, 200, 200, 200, 200, 200, 200, 200, 200, 200, 200, 200, 200, 200, 200, 200, 200, 200, 200, 200, 200, 200, 200, 200, 200, 200, 200, 200, 200, 200, 200, 200, 200, 200, 200, 200, 200, 200, 200, 200, 200, 200, 200, 200, 200, 200, 200, 200, 200, 200, 200, 200, 200, 200, 200, 200, 200, 200, 200, 200, 200, 200, 200, 200, 200, 200, 200]\n"
          ]
        }
      ],
      "source": [
        "import time\n",
        "from concurrent import futures\n",
        "import requests\n",
        "\n",
        "\n",
        "url = \"https://tohyotalk.com/\"\n",
        "worker = 100\n",
        "\n",
        "def func(url):\n",
        "    r = requests.get(url)\n",
        "    return r.status_code\n",
        "\n",
        "\n",
        "future_list = []\n",
        "with futures.ThreadPoolExecutor() as executor:\n",
        "    for i in range(worker):\n",
        "        future = executor.submit(func, url)\n",
        "        future_list.append(future)\n",
        "\n",
        "print([x.result() for x in future_list])"
      ]
    }
  ]
}